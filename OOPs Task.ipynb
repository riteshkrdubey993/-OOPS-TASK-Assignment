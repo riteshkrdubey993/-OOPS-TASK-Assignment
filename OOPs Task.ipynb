{
 "cells": [
  {
   "cell_type": "markdown",
   "id": "2e52f5cb-f55f-4977-b2d3-5b2dae332ac0",
   "metadata": {},
   "source": [
    "# Q1, Create a vehicle class with an init method having instance variables as name_of_vehicle, max_speed and average_of_vehicle."
   ]
  },
  {
   "cell_type": "code",
   "execution_count": 7,
   "id": "1fe61548-75c5-4022-9b0f-a44f6404b8f7",
   "metadata": {},
   "outputs": [],
   "source": [
    "class vehicle:\n",
    "    def __init__(self, name_of_vehicle, max_speed, average_of_vehicle):\n",
    "        self.name_of_vehicle = name_of_vehicle\n",
    "        self.max_speed = max_speed\n",
    "        self.average_of_vehicle = average_of_vehicle"
   ]
  },
  {
   "cell_type": "markdown",
   "id": "20384282-7eb1-4874-81a1-70cb06f8c7ed",
   "metadata": {},
   "source": [
    "# Q2. Create a child class car from the vehicle class created in Que 1, which will inherit the vehicle class. Create a method named seating_capacity which takes capacity as an argument and returns the name of the vehicle and its seating capacity."
   ]
  },
  {
   "cell_type": "code",
   "execution_count": 20,
   "id": "e24cf512-34fc-41ef-b933-91e97496e391",
   "metadata": {},
   "outputs": [
    {
     "name": "stdout",
     "output_type": "stream",
     "text": [
      "The Toyota Camry has a seating capacity of 5.\n"
     ]
    }
   ],
   "source": [
    "class vehicle:\n",
    "    def __init__(self, name_of_vehicle, max_speed, average_of_vehicle):\n",
    "        self.name_of_vehicle = name_of_vehicle\n",
    "        self.max_speed = max_speed\n",
    "        self.average_of_vehicle = average_of_vehicle\n",
    "        \n",
    "class car(vehicle):\n",
    "    def __init__(self, name_of_vehicle, max_speed, average_of_vehicle):\n",
    "        super().__init__(name_of_vehicle, max_speed, average_of_vehicle)\n",
    "        \n",
    "    def seating_capacity(self, no_of_seat):\n",
    "        return f\"The {self.name_of_vehicle} has a seating capacity of {no_of_seat}.\"\n",
    "        \n",
    "# Creating an instance of the Car class\n",
    "my_car = car(name_of_vehicle=\"Toyota Camry\", max_speed=180, average_of_vehicle=25.5)\n",
    "\n",
    "# Using the seating_capacity method\n",
    "capacity_info = my_car.seating_capacity(no_of_seat=5)\n",
    "\n",
    "# Displaying the result\n",
    "print(capacity_info)"
   ]
  },
  {
   "cell_type": "markdown",
   "id": "717fa681-1607-44d3-aa70-1358e2b50b8c",
   "metadata": {},
   "source": [
    "# Q3. What is multiple inheritance? Write a python code to demonstrate multiple inheritance."
   ]
  },
  {
   "cell_type": "markdown",
   "id": "5fec3c08-6c3a-45e1-a95c-fe69cec4302a",
   "metadata": {},
   "source": [
    "Multiple inheritance in Python refers to a scenario where a class can inherit attributes and methods from more than one parent class. This means that a child class can inherit from multiple base classes."
   ]
  },
  {
   "cell_type": "code",
   "execution_count": 2,
   "id": "85433cad-59d7-48c8-83bf-99b75fbab3e8",
   "metadata": {},
   "outputs": [
    {
     "name": "stdout",
     "output_type": "stream",
     "text": [
      "Animal speaks\n",
      "Bird can fly\n",
      "Parrot sings\n"
     ]
    }
   ],
   "source": [
    "# Parent class 1\n",
    "class Animal:\n",
    "    def speak(self):\n",
    "        print(\"Animal speaks\")\n",
    "\n",
    "# Parent class 2\n",
    "class Bird:\n",
    "    def fly(self):\n",
    "        print(\"Bird can fly\")\n",
    "\n",
    "# Child class inheriting from both Animal and Bird\n",
    "class Parrot(Animal, Bird):\n",
    "    def sing(self):\n",
    "        print(\"Parrot sings\")\n",
    "\n",
    "# Creating an instance of the Parrot class\n",
    "my_parrot = Parrot()\n",
    "\n",
    "# Using methods from both parent classes\n",
    "my_parrot.speak()  # Inherited from Animal\n",
    "my_parrot.fly()    # Inherited from Bird\n",
    "my_parrot.sing()   # Defined in Parrot\n"
   ]
  },
  {
   "cell_type": "markdown",
   "id": "46f0c341-ee83-44a4-bb05-a4b60303f1ad",
   "metadata": {},
   "source": [
    "    The Animal class has a method speak.\n",
    "    The Bird class has a method fly.\n",
    "    The Parrot class inherits from both Animal and Bird classes.\n",
    "When we create an instance of the Parrot class (my_parrot), it inherits methods from both parent classes. We can use the speak method from Animal, the fly method from Bird, and the sing method defined in the Parrot class."
   ]
  },
  {
   "cell_type": "markdown",
   "id": "3d3a8c42-aabc-48c1-820c-7c35cf4a947d",
   "metadata": {},
   "source": [
    "# Q4. What are getter and setter in python? Create a class and create a getter and a setter method in this class."
   ]
  },
  {
   "cell_type": "markdown",
   "id": "7a6197f7-d9a2-4051-a4ef-f2d961bce290",
   "metadata": {},
   "source": [
    "In Python, getters and setters are methods used to access and modify the attributes (variables) of a class, respectively. They provide a way to encapsulate the access and modification of attributes, allowing we to control how they are accessed and modified."
   ]
  },
  {
   "cell_type": "code",
   "execution_count": 2,
   "id": "2bcc8723-cfcc-45a2-b26f-6dc34a5dd42d",
   "metadata": {},
   "outputs": [
    {
     "name": "stdout",
     "output_type": "stream",
     "text": [
      "Make : Toyota\n",
      "Model : Camry\n",
      "Year : 2023\n",
      "Make: Honda\n",
      "Model: Accord\n",
      "Year: 2009\n"
     ]
    }
   ],
   "source": [
    "class car:\n",
    "    def __init__(self, make, model, year):\n",
    "        self._make = make\n",
    "        self._model = model\n",
    "        self._year = year\n",
    "   \n",
    "    # Getter method for the 'make' attribute\n",
    "    def get_make(self):\n",
    "        return self._make\n",
    "    \n",
    "    # Getter method for the 'model' attribute    \n",
    "    def get_model(self):\n",
    "        return self._model\n",
    "    \n",
    "    # Getter method for the 'year' attribute\n",
    "    def get_year(self):\n",
    "        return self._year\n",
    "    \n",
    "     # Setter method for the 'make' attribute\n",
    "    def set_make(self, make):\n",
    "        self._make = make\n",
    "        \n",
    "    # Setter method for the 'model' attribute   \n",
    "    def set_model(self, model):\n",
    "        self._model = model\n",
    "        \n",
    "    # Setter method for the 'year' attribute    \n",
    "    def set_year(self, year):\n",
    "        self._year = year\n",
    "        \n",
    "# Creating an instance of the Car class    \n",
    "my_car = car(make=\"Toyota\", model=\"Camry\", year=2023)\n",
    "\n",
    "# Using getter methods\n",
    "print('Make :',my_car.get_make())\n",
    "print('Model :',my_car.get_model())\n",
    "print('Year :',my_car.get_year())\n",
    "\n",
    "# Using setter methods to modify attributes\n",
    "my_car.set_make('Honda')\n",
    "my_car.set_model('Accord')\n",
    "my_car.set_year(2009)\n",
    "\n",
    "# Displaying modified attributes using getter methods\n",
    "print(\"Make:\", my_car.get_make())\n",
    "print(\"Model:\", my_car.get_model())\n",
    "print(\"Year:\", my_car.get_year())"
   ]
  },
  {
   "cell_type": "markdown",
   "id": "35aa4015-01d4-48be-a367-441e92323958",
   "metadata": {},
   "source": [
    "    The Car class has attributes _make, _model, and _year.\n",
    "    Getter methods (get_make, get_model, get_year) are used to retrieve the values of these attributes.\n",
    "    Setter methods (set_make, set_model, set_year) are used to modify the values of these attributes."
   ]
  },
  {
   "cell_type": "markdown",
   "id": "07221714-32d0-4385-ba00-2a9a795b2e08",
   "metadata": {},
   "source": [
    "# Q5.What is method overriding in python? Write a python code to demonstrate method overriding."
   ]
  },
  {
   "cell_type": "markdown",
   "id": "8aa9a540-ea3c-433f-a16c-d442bfa9519a",
   "metadata": {},
   "source": [
    "Method overriding in Python occurs when a subclass provides a specific implementation for a method that is already defined in its superclass. The overridden method in the subclass should have the same name, parameters, and return type as the method in the superclass."
   ]
  },
  {
   "cell_type": "code",
   "execution_count": null,
   "id": "2e14621d-48b1-41ec-9bd5-ef6d24eccd4e",
   "metadata": {},
   "outputs": [],
   "source": [
    "class Animal:\n",
    "    def speak(self):\n",
    "        print(\"Animal speaks\")\n",
    "\n",
    "class Dog(Animal):\n",
    "    # Overriding the speak method in the subclass\n",
    "    def speak(self):\n",
    "        print(\"Dog barks\")\n",
    "\n",
    "class Cat(Animal):\n",
    "    # Overriding the speak method in the subclass\n",
    "    def speak(self):\n",
    "        print(\"Cat meows\")\n",
    "\n",
    "# Creating instances of the subclasses\n",
    "my_dog = Dog()\n",
    "my_cat = Cat()\n",
    "\n",
    "# Calling the overridden speak method for each instance\n",
    "my_dog.speak()  # Output: Dog barks\n",
    "my_cat.speak()  # Output: Cat meows\n"
   ]
  }
 ],
 "metadata": {
  "kernelspec": {
   "display_name": "Python 3 (ipykernel)",
   "language": "python",
   "name": "python3"
  },
  "language_info": {
   "codemirror_mode": {
    "name": "ipython",
    "version": 3
   },
   "file_extension": ".py",
   "mimetype": "text/x-python",
   "name": "python",
   "nbconvert_exporter": "python",
   "pygments_lexer": "ipython3",
   "version": "3.10.8"
  }
 },
 "nbformat": 4,
 "nbformat_minor": 5
}
